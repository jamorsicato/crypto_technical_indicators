{
 "cells": [
  {
   "cell_type": "markdown",
   "metadata": {},
   "source": [
    "# Overview of my 2021 trading plan \n",
    "## My goal is 1 million dollars \n",
    "### How the fuck am I gonna do that "
   ]
  },
  {
   "cell_type": "markdown",
   "metadata": {},
   "source": [
    "To start out I am gonna brain dump what I think I should do\n",
    "- Never hold USD (figure out markets to stay in like ETH-BTC)\n",
    "- given BTC's scarcity I think it will maintain a good store of value\n",
    "- Hodling is great, but I think I can do better (Although right now not so much)\n",
    "- I want a trading plan system that will \n",
    "\n",
    "\n",
    "\n",
    "https://www.sciencedirect.com/science/article/pii/S1544612319308852 \n",
    "\n"
   ]
  },
  {
   "cell_type": "markdown",
   "metadata": {},
   "source": [
    "January\n",
    "\n",
    "ALT COINS \n",
    "\n",
    "Chainlink\n",
    "- looks really promising\n",
    "\n",
    "\n",
    "\n",
    "Aave\n",
    "- out (not a lot of up market potential in corrrelation to btc)"
   ]
  },
  {
   "cell_type": "markdown",
   "metadata": {},
   "source": [
    "February"
   ]
  },
  {
   "cell_type": "markdown",
   "metadata": {},
   "source": [
    "March"
   ]
  }
 ],
 "metadata": {
  "kernelspec": {
   "display_name": "Python 3",
   "language": "python",
   "name": "python3"
  },
  "language_info": {
   "codemirror_mode": {
    "name": "ipython",
    "version": 3
   },
   "file_extension": ".py",
   "mimetype": "text/x-python",
   "name": "python",
   "nbconvert_exporter": "python",
   "pygments_lexer": "ipython3",
   "version": "3.8.5"
  }
 },
 "nbformat": 4,
 "nbformat_minor": 4
}
